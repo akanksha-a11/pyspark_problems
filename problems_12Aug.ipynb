{
 "cells": [
  {
   "cell_type": "code",
   "execution_count": 0,
   "metadata": {
    "application/vnd.databricks.v1+cell": {
     "cellMetadata": {
      "byteLimit": 2048000,
      "rowLimit": 10000
     },
     "inputWidgets": {},
     "nuid": "468dd328-db05-4db7-863c-9ebb46765af9",
     "showTitle": false,
     "tableResultSettingsMap": {},
     "title": ""
    }
   },
   "outputs": [
    {
     "output_type": "stream",
     "name": "stdout",
     "output_type": "stream",
     "text": [
      "+-----------+-------------+------+\n|customer_id|         name|region|\n+-----------+-------------+------+\n|          1|Alice Johnson|  West|\n|          3|  Charlie Lee|  West|\n+-----------+-------------+------+\n\n"
     ]
    }
   ],
   "source": [
    "import datetime\n",
    "from pyspark.sql import SparkSession\n",
    "from pyspark.sql.types import StructType, StructField, IntegerType, StringType, DateType\n",
    "\n",
    "spark = SparkSession.builder.appName(\"CustomerData\").getOrCreate()\n",
    "spark.sql(\"CREATE DATABASE IF NOT EXISTS cust_db\")\n",
    "\n",
    "customer_schema = StructType([\n",
    "    StructField(\"customer_id\", IntegerType(), False),\n",
    "    StructField(\"name\", StringType(), True),\n",
    "    StructField(\"region\", StringType(), True),\n",
    "    StructField(\"status\", StringType(), True),\n",
    "    StructField(\"signup_date\", DateType(), True)\n",
    "])\n",
    "\n",
    "customer_data = [\n",
    "    (1, \"Alice Johnson\", \"West\", \"Active\", datetime.date(2023, 1, 15)),\n",
    "    (2, \"Bob Smith\", \"East\", \"Inactive\", datetime.date(2023, 2, 20)),\n",
    "    (3, \"Charlie Lee\", \"West\", \"Active\", datetime.date(2023, 3, 10))\n",
    "]\n",
    "\n",
    "customers_df = spark.createDataFrame(customer_data, schema=customer_schema)\n",
    "customers_df.write.format(\"delta\").mode(\"overwrite\").saveAsTable(\"cust_db.customers\")\n",
    "\n",
    "result_df = spark.sql(\"\"\"\n",
    "    SELECT customer_id, name, region\n",
    "    FROM default.customers\n",
    "    WHERE status = 'Active' AND region = 'West'\n",
    "    \"\"\")\n",
    "\n",
    "result_df.show()"
   ]
  },
  {
   "cell_type": "code",
   "execution_count": 0,
   "metadata": {
    "application/vnd.databricks.v1+cell": {
     "cellMetadata": {
      "byteLimit": 2048000,
      "rowLimit": 10000
     },
     "inputWidgets": {},
     "nuid": "48143db5-2407-4614-9091-323416e1e6c2",
     "showTitle": false,
     "tableResultSettingsMap": {},
     "title": ""
    }
   },
   "outputs": [
    {
     "output_type": "stream",
     "name": "stdout",
     "output_type": "stream",
     "text": [
      "+----------+----------+-----+---------+\n|product_id|      name|stock|warehouse|\n+----------+----------+-----+---------+\n|       101|    Laptop|   45|        A|\n|       102|Smartphone|  100|        B|\n|       103|    Tablet|   30|        A|\n+----------+----------+-----+---------+\n\n"
     ]
    }
   ],
   "source": [
    "from pyspark.sql import SparkSession\n",
    "from pyspark.sql.types import StructType, StructField, IntegerType, StringType\n",
    "from delta.tables import DeltaTable \n",
    "\n",
    "spark = SparkSession.builder.appName(\"InventoryUpdates\").getOrCreate()\n",
    "spark.sql(\"CREATE DATABASE IF NOT EXISTS inventory\")\n",
    "inventory_schema = StructType([\n",
    "    StructField(\"product_id\", IntegerType(), False),\n",
    "    StructField(\"name\", StringType(), True),\n",
    "    StructField(\"stock\", IntegerType(), True),\n",
    "    StructField(\"warehouse\", StringType(), True)\n",
    "])\n",
    "initial_data = [\n",
    "    (101, \"Laptop\", 50, \"A\"),\n",
    "    (102, \"Smartphone\", 100, \"B\")\n",
    "]\n",
    "\n",
    "initial_df = spark.createDataFrame(initial_data, schema=inventory_schema)\n",
    "initial_df.write.format(\"delta\").mode(\"overwrite\").saveAsTable(\"inventory.products\")\n",
    "update_data = [\n",
    "    (101, \"Laptop\", 45, \"A\"),   # Update\n",
    "    (103, \"Tablet\", 30, \"A\")    # Insert new product\n",
    "]\n",
    "\n",
    "update_df = spark.createDataFrame(update_data, schema=inventory_schema)\n",
    "target_table = DeltaTable.forName(spark, \"inventory.products\")\n",
    "(\n",
    "    target_table.alias(\"target\")\n",
    "    .merge(\n",
    "        update_df.alias(\"source\"),\n",
    "        \"target.product_id = source.product_id\"\n",
    "    )\n",
    "    .whenMatchedUpdate(set={\n",
    "        \"stock\": \"source.stock\",\n",
    "        \"name\": \"source.name\",\n",
    "        \"warehouse\": \"source.warehouse\"\n",
    "    })\n",
    "    .whenNotMatchedInsert(values={\n",
    "        \"product_id\": \"source.product_id\",\n",
    "        \"name\": \"source.name\",\n",
    "        \"stock\": \"source.stock\",\n",
    "        \"warehouse\": \"source.warehouse\"\n",
    "    })\n",
    "    .execute()\n",
    ")\n",
    "final_df = spark.sql(\"\"\"\n",
    "    SELECT *\n",
    "    FROM inventory.products\n",
    "    ORDER BY product_id\n",
    "\"\"\")\n",
    "\n",
    "final_df.show()\n"
   ]
  },
  {
   "cell_type": "code",
   "execution_count": 0,
   "metadata": {
    "application/vnd.databricks.v1+cell": {
     "cellMetadata": {
      "byteLimit": 2048000,
      "rowLimit": 10000
     },
     "inputWidgets": {},
     "nuid": "8d673261-ae50-4874-8beb-c5ee2dba1ffc",
     "showTitle": false,
     "tableResultSettingsMap": {},
     "title": ""
    }
   },
   "outputs": [
    {
     "output_type": "stream",
     "name": "stdout",
     "output_type": "stream",
     "text": [
      "Total amount from previous version (before update):\n+------------+\n|total_amount|\n+------------+\n|       25000|\n+------------+\n\nTotal amount from current version (after update):\n+------------+\n|total_amount|\n+------------+\n|       27000|\n+------------+\n\n"
     ]
    }
   ],
   "source": [
    "from pyspark.sql import SparkSession\n",
    "from pyspark.sql.types import StructType, StructField, IntegerType, StringType\n",
    "from delta.tables import DeltaTable\n",
    "spark = SparkSession.builder.appName(\"SalesAnalysis\").getOrCreate()\n",
    "spark.sql(\"CREATE DATABASE IF NOT EXISTS sales\")\n",
    "sales_schema = StructType([\n",
    "    StructField(\"sale_id\", IntegerType(), False),\n",
    "    StructField(\"product\", StringType(), True),\n",
    "    StructField(\"amount\", IntegerType(), True),\n",
    "    StructField(\"quarter\", StringType(), True)\n",
    "])\n",
    "initial_data = [\n",
    "    (1, \"Stocks\", 10000, \"Q1-2023\"),\n",
    "    (2, \"Bonds\", 15000, \"Q1-2023\")\n",
    "]\n",
    "initial_df = spark.createDataFrame(initial_data, schema=sales_schema)\n",
    "initial_df.write.format(\"delta\").mode(\"overwrite\").saveAsTable(\"sales.quarterly_sales\")\n",
    "update_data = [\n",
    "    (1, \"Stocks\", 12000, \"Q1-2023\")\n",
    "]\n",
    "update_df = spark.createDataFrame(update_data, schema=sales_schema)\n",
    "delta_table = DeltaTable.forName(spark, \"sales.quarterly_sales\")\n",
    "(\n",
    "    delta_table.alias(\"target\")\n",
    "    .merge(\n",
    "        update_df.alias(\"source\"),\n",
    "        \"target.sale_id = source.sale_id\"\n",
    "    )\n",
    "    .whenMatchedUpdate(set={\"amount\": \"source.amount\"})\n",
    "    .execute()\n",
    ")\n",
    "history_df = delta_table.history()\n",
    "versions = history_df.select(\"version\").orderBy(\"version\").collect()\n",
    "previous_version = versions[0][0]\n",
    "previous_total_df = spark.sql(f\"\"\"\n",
    "    SELECT SUM(amount) AS total_amount\n",
    "    FROM sales.quarterly_sales VERSION AS OF {previous_version}\n",
    "\"\"\")\n",
    "print(\"Total amount from previous version (before update):\")\n",
    "previous_total_df.show()\n",
    "current_total_df = spark.sql(\"\"\"\n",
    "    SELECT SUM(amount) AS total_amount\n",
    "    FROM sales.quarterly_sales\n",
    "\"\"\")\n",
    "print(\"Total amount from current version (after update):\")\n",
    "current_total_df.show()\n"
   ]
  }
 ],
 "metadata": {
  "application/vnd.databricks.v1+notebook": {
   "computePreferences": {
    "hardware": {
     "accelerator": null,
     "gpuPoolId": null,
     "memory": null
    }
   },
   "dashboards": [],
   "environmentMetadata": {
    "base_environment": "",
    "environment_version": "2"
   },
   "inputWidgetPreferences": null,
   "language": "python",
   "notebookMetadata": {
    "pythonIndentUnit": 4
   },
   "notebookName": "problems_12Aug",
   "widgets": {}
  },
  "language_info": {
   "name": "python"
  }
 },
 "nbformat": 4,
 "nbformat_minor": 0
}