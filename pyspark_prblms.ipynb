{
  "nbformat": 4,
  "nbformat_minor": 0,
  "metadata": {
    "colab": {
      "provenance": []
    },
    "kernelspec": {
      "name": "python3",
      "display_name": "Python 3"
    },
    "language_info": {
      "name": "python"
    }
  },
  "cells": [
    {
      "cell_type": "code",
      "execution_count": 1,
      "metadata": {
        "id": "Ji1Hpx8zUNKE"
      },
      "outputs": [],
      "source": [
        "from pyspark.sql import SparkSession\n",
        "from pyspark.sql.functions import *"
      ]
    },
    {
      "cell_type": "code",
      "source": [
        "spark = SparkSession.builder.appName(\"HogwartsAnalysis\").getOrCreate()\n",
        "\n",
        "data = [\n",
        "    (\"Gryffindor\", 1, 80, \"Harry Potter\"),\n",
        "    (\"Slytherin\", 1, 60, \"Draco Malfoy\"),\n",
        "    (\"Ravenclaw\", 1, 45, \"Luna Lovegood\"),\n",
        "    (\"Hufflepuff\", 1, 30, \"Cedric Diggory\"),\n",
        "    (\"Gryffindor\", 2, 90, \"Hermione Granger\"),\n",
        "    (\"Slytherin\", 2, 70, \"Pansy Parkinson\"),\n",
        "    (\"Ravenclaw\", 2, 55, \"Cho Chang\"),\n",
        "    (\"Hufflepuff\", 2, 65, \"Hannah Abbott\"),\n",
        "    (\"Gryffindor\", 3, 20, \"Ron Weasley\"),\n",
        "    (\"Slytherin\", 3, 85, \"Blaise Zabini\")\n",
        "]\n",
        "\n",
        "columns = [\"house\", \"year\", \"points\", \"student\"]\n",
        "df = spark.createDataFrame(data, columns)\n",
        "\n",
        "res_df = ( df.select(\"house\", \"year\", \"points\").filter(col(\"points\")>50)\n",
        "            .groupBy(\"house\", \"year\")\n",
        "            .agg(sum(\"points\").alias(\"total_p\"))\n",
        "            .orderBy(desc(\"year\"), desc(\"total_p\"))\n",
        ")\n",
        "res_df.show()"
      ],
      "metadata": {
        "colab": {
          "base_uri": "https://localhost:8080/"
        },
        "id": "JMmeIupkVwAV",
        "outputId": "d449cf5e-79e4-4b82-ed49-31c7d5ee0725"
      },
      "execution_count": 11,
      "outputs": [
        {
          "output_type": "stream",
          "name": "stdout",
          "text": [
            "+----------+----+-------+\n",
            "|     house|year|total_p|\n",
            "+----------+----+-------+\n",
            "| Slytherin|   3|     85|\n",
            "|Gryffindor|   2|     90|\n",
            "| Slytherin|   2|     70|\n",
            "|Hufflepuff|   2|     65|\n",
            "| Ravenclaw|   2|     55|\n",
            "|Gryffindor|   1|     80|\n",
            "| Slytherin|   1|     60|\n",
            "+----------+----+-------+\n",
            "\n"
          ]
        }
      ]
    },
    {
      "cell_type": "code",
      "source": [
        "data = [\n",
        "    (\"Aragorn\", \"Human\", 10, 2, \"Helms Deep\"),\n",
        "    (\"Legolas\", \"Elf\", 15, 0, \"Helms Deep\"),\n",
        "    (\"Gimli\", \"Dwarf\", 8, 3, \"Helms Deep\"),\n",
        "    (\"Frodo\", \"Hobbit\", 2, 1, \"Moria\"),\n",
        "    (\"Sam\", \"Hobbit\", 4, 2, \"Moria\"),\n",
        "    (\"Gandalf\", \"Wizard\", 12, 1, \"Moria\"),\n",
        "    (\"Boromir\", \"Human\", 7, 4, \"Amon Hen\"),\n",
        "    (\"Legolas\", \"Elf\", 20, 0, \"Amon Hen\"),\n",
        "    (\"Aragorn\", \"Human\", 9, 2, \"Amon Hen\")\n",
        "]\n",
        "\n",
        "columns = [\"name\", \"race\", \"enemies_defeated\", \"injuries\", \"battle\"]\n",
        "df = spark.createDataFrame(data, columns)\n",
        "\n",
        "res_df = (\n",
        "    df.select(\"name\",\"race\",\"enemies_defeated\").filter(col(\"enemies_defeated\")>5)\n",
        "    .groupBy(\"race\").agg(round(avg(\"enemies_defeated\")).alias(\"avg_enemie_def\"))\n",
        "    .orderBy(desc(\"avg_enemie_def\"))\n",
        ")\n",
        "res_df.show()"
      ],
      "metadata": {
        "colab": {
          "base_uri": "https://localhost:8080/"
        },
        "id": "FBIFmgbVZxsX",
        "outputId": "9d8925c2-c900-4392-996b-8fa992643414"
      },
      "execution_count": 17,
      "outputs": [
        {
          "output_type": "stream",
          "name": "stdout",
          "text": [
            "+------+--------------+\n",
            "|  race|avg_enemie_def|\n",
            "+------+--------------+\n",
            "|   Elf|          18.0|\n",
            "|Wizard|          12.0|\n",
            "| Human|           9.0|\n",
            "| Dwarf|           8.0|\n",
            "+------+--------------+\n",
            "\n"
          ]
        }
      ]
    },
    {
      "cell_type": "code",
      "source": [
        "data = [\n",
        "    (\"SUB-01\", \"Pacific Strike\", 5, \"Success\"),\n",
        "    (\"SUB-02\", \"Atlantic Surge\", 2, \"Failure\"),\n",
        "    (\"SUB-01\", \"Arctic Blitz\", 4, \"Success\"),\n",
        "    (\"SUB-03\", \"Indian Ocean\", 6, \"Success\"),\n",
        "    (\"SUB-02\", \"Pacific Strike\", 3, \"Success\"),\n",
        "    (\"SUB-01\", \"Coral Sea\", 7, \"Success\"),\n",
        "    (\"SUB-03\", \"Arctic Blitz\", 1, \"Failure\"),\n",
        "    (\"SUB-02\", \"Bering Strait\", 5, \"Success\")\n",
        "]\n",
        "\n",
        "columns = [\"submarine_id\", \"mission_name\", \"warheads_launched\", \"status\"]\n",
        "df = spark.createDataFrame(data, columns)\n",
        "# df.show()\n",
        "res_df = (\n",
        "    df.select(\"submarine_id\",\"mission_name\",\"warheads_launched\")\n",
        "    .filter((col(\"warheads_launched\")>3) & (col(\"status\")==\"Success\"))\n",
        "    .groupBy(\"submarine_id\").agg(\n",
        "        count(\"mission_name\"),sum(\"warheads_launched\").alias(\"total_warheads\")\n",
        "    ).orderBy(desc(\"total_warheads\"))\n",
        ")\n",
        "res_df.show()"
      ],
      "metadata": {
        "colab": {
          "base_uri": "https://localhost:8080/"
        },
        "id": "gvYpVXSegD1m",
        "outputId": "5c850294-ab3f-4df7-9573-55068f60f776"
      },
      "execution_count": 16,
      "outputs": [
        {
          "output_type": "stream",
          "name": "stdout",
          "text": [
            "+------------+-------------------+--------------+\n",
            "|submarine_id|count(mission_name)|total_warheads|\n",
            "+------------+-------------------+--------------+\n",
            "|      SUB-01|                  3|            16|\n",
            "|      SUB-03|                  1|             6|\n",
            "|      SUB-02|                  1|             5|\n",
            "+------------+-------------------+--------------+\n",
            "\n"
          ]
        }
      ]
    }
  ]
}